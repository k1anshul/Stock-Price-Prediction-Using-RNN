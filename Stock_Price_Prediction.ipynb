{
  "nbformat": 4,
  "nbformat_minor": 0,
  "metadata": {
    "colab": {
      "name": "Stock Price Prediction.ipynb",
      "provenance": []
    },
    "kernelspec": {
      "name": "python3",
      "display_name": "Python 3"
    }
  },
  "cells": [
    {
      "cell_type": "markdown",
      "metadata": {
        "id": "y_rzTfrDmXlb",
        "colab_type": "text"
      },
      "source": [
        "**Predicting Stock Price Using RNN**"
      ]
    },
    {
      "cell_type": "code",
      "metadata": {
        "id": "I7XKp8sAPtNs",
        "colab_type": "code",
        "colab": {}
      },
      "source": [
        "# Importing the libraries\n",
        "import numpy as np\n",
        "import matplotlib.pyplot as plt\n",
        "import pandas as pd"
      ],
      "execution_count": 1,
      "outputs": []
    },
    {
      "cell_type": "markdown",
      "metadata": {
        "id": "igu1XR3VmwoI",
        "colab_type": "text"
      },
      "source": [
        "Train Dataset"
      ]
    },
    {
      "cell_type": "code",
      "metadata": {
        "id": "VxkFpgaoQo28",
        "colab_type": "code",
        "colab": {
          "base_uri": "https://localhost:8080/",
          "height": 72
        },
        "outputId": "44743b5c-101c-49d8-82a3-6e97d9f15dce"
      },
      "source": [
        "# Importing the training set\n",
        "dataset_train = pd.read_csv('Train.csv')"
      ],
      "execution_count": 2,
      "outputs": [
        {
          "output_type": "stream",
          "text": [
            "/usr/local/lib/python3.6/dist-packages/IPython/core/interactiveshell.py:2718: DtypeWarning: Columns (0,1) have mixed types.Specify dtype option on import or set low_memory=False.\n",
            "  interactivity=interactivity, compiler=compiler, result=result)\n"
          ],
          "name": "stderr"
        }
      ]
    },
    {
      "cell_type": "code",
      "metadata": {
        "id": "OTBnlOxrclJu",
        "colab_type": "code",
        "colab": {
          "base_uri": "https://localhost:8080/",
          "height": 202
        },
        "outputId": "29a38960-2556-4aab-c177-a88dc8080031"
      },
      "source": [
        "dataset_train.head()"
      ],
      "execution_count": 3,
      "outputs": [
        {
          "output_type": "execute_result",
          "data": {
            "text/html": [
              "<div>\n",
              "<style scoped>\n",
              "    .dataframe tbody tr th:only-of-type {\n",
              "        vertical-align: middle;\n",
              "    }\n",
              "\n",
              "    .dataframe tbody tr th {\n",
              "        vertical-align: top;\n",
              "    }\n",
              "\n",
              "    .dataframe thead th {\n",
              "        text-align: right;\n",
              "    }\n",
              "</style>\n",
              "<table border=\"1\" class=\"dataframe\">\n",
              "  <thead>\n",
              "    <tr style=\"text-align: right;\">\n",
              "      <th></th>\n",
              "      <th>date</th>\n",
              "      <th>symbol</th>\n",
              "      <th>open</th>\n",
              "      <th>close</th>\n",
              "      <th>low</th>\n",
              "      <th>high</th>\n",
              "      <th>volume</th>\n",
              "    </tr>\n",
              "  </thead>\n",
              "  <tbody>\n",
              "    <tr>\n",
              "      <th>0</th>\n",
              "      <td>04-01-2010</td>\n",
              "      <td>A</td>\n",
              "      <td>31.389999</td>\n",
              "      <td>31.300001</td>\n",
              "      <td>31.130000</td>\n",
              "      <td>31.630001</td>\n",
              "      <td>3815500.0</td>\n",
              "    </tr>\n",
              "    <tr>\n",
              "      <th>1</th>\n",
              "      <td>04-01-2010</td>\n",
              "      <td>AAL</td>\n",
              "      <td>4.840000</td>\n",
              "      <td>4.770000</td>\n",
              "      <td>4.660000</td>\n",
              "      <td>4.940000</td>\n",
              "      <td>9837300.0</td>\n",
              "    </tr>\n",
              "    <tr>\n",
              "      <th>2</th>\n",
              "      <td>04-01-2010</td>\n",
              "      <td>AAP</td>\n",
              "      <td>40.700001</td>\n",
              "      <td>40.380001</td>\n",
              "      <td>40.360001</td>\n",
              "      <td>41.040001</td>\n",
              "      <td>1701700.0</td>\n",
              "    </tr>\n",
              "    <tr>\n",
              "      <th>3</th>\n",
              "      <td>04-01-2010</td>\n",
              "      <td>AAPL</td>\n",
              "      <td>213.429998</td>\n",
              "      <td>214.009998</td>\n",
              "      <td>212.380001</td>\n",
              "      <td>214.499996</td>\n",
              "      <td>123432400.0</td>\n",
              "    </tr>\n",
              "    <tr>\n",
              "      <th>4</th>\n",
              "      <td>04-01-2010</td>\n",
              "      <td>ABC</td>\n",
              "      <td>26.290001</td>\n",
              "      <td>26.629999</td>\n",
              "      <td>26.139999</td>\n",
              "      <td>26.690001</td>\n",
              "      <td>2455900.0</td>\n",
              "    </tr>\n",
              "  </tbody>\n",
              "</table>\n",
              "</div>"
            ],
            "text/plain": [
              "         date symbol        open  ...         low        high       volume\n",
              "0  04-01-2010      A   31.389999  ...   31.130000   31.630001    3815500.0\n",
              "1  04-01-2010    AAL    4.840000  ...    4.660000    4.940000    9837300.0\n",
              "2  04-01-2010    AAP   40.700001  ...   40.360001   41.040001    1701700.0\n",
              "3  04-01-2010   AAPL  213.429998  ...  212.380001  214.499996  123432400.0\n",
              "4  04-01-2010    ABC   26.290001  ...   26.139999   26.690001    2455900.0\n",
              "\n",
              "[5 rows x 7 columns]"
            ]
          },
          "metadata": {
            "tags": []
          },
          "execution_count": 3
        }
      ]
    },
    {
      "cell_type": "code",
      "metadata": {
        "id": "fAqh9tLfcx50",
        "colab_type": "code",
        "colab": {}
      },
      "source": [
        "training_set = dataset_train.iloc[:, 2:3].values "
      ],
      "execution_count": 4,
      "outputs": []
    },
    {
      "cell_type": "code",
      "metadata": {
        "id": "I9rIqatzc39I",
        "colab_type": "code",
        "colab": {}
      },
      "source": [
        "# Feature Scaling\n",
        "from sklearn.preprocessing import MinMaxScaler    \n",
        "sc = MinMaxScaler(feature_range = (0, 1))\n",
        "training_set_scaled = sc.fit_transform(training_set)"
      ],
      "execution_count": 5,
      "outputs": []
    },
    {
      "cell_type": "code",
      "metadata": {
        "id": "Dk15QVzpc7kY",
        "colab_type": "code",
        "colab": {}
      },
      "source": [
        "# Creating a data structure with 60 timesteps and 1 output\n",
        "X_train = []\n",
        "y_train = []\n",
        "for i in range(60, 649999):\n",
        "    X_train.append(training_set_scaled[i-60:i, 0])\n",
        "    y_train.append(training_set_scaled[i, 0])\n",
        "X_train, y_train = np.array(X_train), np.array(y_train)"
      ],
      "execution_count": 6,
      "outputs": []
    },
    {
      "cell_type": "code",
      "metadata": {
        "id": "-qigKz1xdUSg",
        "colab_type": "code",
        "colab": {}
      },
      "source": [
        "# Reshaping\n",
        "X_train = np.reshape(X_train, (X_train.shape[0], X_train.shape[1], 1))"
      ],
      "execution_count": 7,
      "outputs": []
    },
    {
      "cell_type": "code",
      "metadata": {
        "id": "v-gXpLundsk8",
        "colab_type": "code",
        "colab": {
          "base_uri": "https://localhost:8080/",
          "height": 35
        },
        "outputId": "d2d1e5ed-1abb-4f23-b10f-84a51d141aff"
      },
      "source": [
        "# Importing the Keras libraries and packages\n",
        "from keras.models import Sequential\n",
        "from keras.layers import Dense\n",
        "from keras.layers import LSTM\n",
        "from keras.layers import Dropout"
      ],
      "execution_count": 8,
      "outputs": [
        {
          "output_type": "stream",
          "text": [
            "Using TensorFlow backend.\n"
          ],
          "name": "stderr"
        }
      ]
    },
    {
      "cell_type": "code",
      "metadata": {
        "id": "-MP8LZ_udX0F",
        "colab_type": "code",
        "colab": {
          "base_uri": "https://localhost:8080/",
          "height": 381
        },
        "outputId": "bc13c8a3-5c7d-40c1-ce79-40d7f8ab619f"
      },
      "source": [
        "# Initialising the RNN\n",
        "regressor = Sequential()\n",
        "\n",
        "# Adding the first LSTM layer and some Dropout regularisation\n",
        "regressor.add(LSTM(units = 50, return_sequences = True, input_shape = (X_train.shape[1], 1)))\n",
        "regressor.add(Dropout(0.2))\n",
        "\n",
        "# Adding a second LSTM layer and some Dropout regularisation\n",
        "regressor.add(LSTM(units = 50, return_sequences = True)) \n",
        "regressor.add(Dropout(0.2))\n",
        "\n",
        "# Adding a third LSTM layer and some Dropout regularisation\n",
        "regressor.add(LSTM(units = 50, return_sequences = True))\n",
        "regressor.add(Dropout(0.2))\n",
        "\n",
        "# Adding a fourth LSTM layer and some Dropout regularisation\n",
        "regressor.add(LSTM(units = 50))\n",
        "regressor.add(Dropout(0.2))\n",
        "\n",
        "# Adding the output layer\n",
        "regressor.add(Dense(units = 1))\n",
        "\n",
        "# Compiling the RNN\n",
        "regressor.compile(optimizer = 'adam', loss = 'mean_squared_error')\n",
        "\n",
        "# Fitting the RNN to the Training set\n",
        "regressor.fit(X_train, y_train, epochs = 10, batch_size = 1000)"
      ],
      "execution_count": 9,
      "outputs": [
        {
          "output_type": "stream",
          "text": [
            "Epoch 1/10\n",
            "649939/649939 [==============================] - 1241s 2ms/step - loss: 0.0031\n",
            "Epoch 2/10\n",
            "649939/649939 [==============================] - 1229s 2ms/step - loss: 0.0031\n",
            "Epoch 3/10\n",
            "649939/649939 [==============================] - 1227s 2ms/step - loss: 0.0030\n",
            "Epoch 4/10\n",
            "649939/649939 [==============================] - 1229s 2ms/step - loss: 0.0030\n",
            "Epoch 5/10\n",
            "649939/649939 [==============================] - 1209s 2ms/step - loss: 0.0029\n",
            "Epoch 6/10\n",
            "649939/649939 [==============================] - 1218s 2ms/step - loss: 0.0025\n",
            "Epoch 7/10\n",
            "649939/649939 [==============================] - 1223s 2ms/step - loss: 0.0017\n",
            "Epoch 8/10\n",
            "649939/649939 [==============================] - 1226s 2ms/step - loss: 0.0014\n",
            "Epoch 9/10\n",
            "649939/649939 [==============================] - 1222s 2ms/step - loss: 0.0011\n",
            "Epoch 10/10\n",
            "649939/649939 [==============================] - 1210s 2ms/step - loss: 0.0010\n"
          ],
          "name": "stdout"
        },
        {
          "output_type": "execute_result",
          "data": {
            "text/plain": [
              "<keras.callbacks.callbacks.History at 0x7efda2671cc0>"
            ]
          },
          "metadata": {
            "tags": []
          },
          "execution_count": 9
        }
      ]
    },
    {
      "cell_type": "code",
      "metadata": {
        "id": "oZU1WHL-dmq_",
        "colab_type": "code",
        "colab": {}
      },
      "source": [
        "regressor.save(\"model_stock_price_prediction.h5\")"
      ],
      "execution_count": 11,
      "outputs": []
    },
    {
      "cell_type": "code",
      "metadata": {
        "id": "-0EMX-pmhqO4",
        "colab_type": "code",
        "colab": {}
      },
      "source": [
        "from tensorflow import keras\n",
        "regressor = keras.models.load_model(\"model_stock_price_prediction.h5\")"
      ],
      "execution_count": 13,
      "outputs": []
    },
    {
      "cell_type": "code",
      "metadata": {
        "id": "M4w5zrj9hz3G",
        "colab_type": "code",
        "colab": {
          "base_uri": "https://localhost:8080/",
          "height": 468
        },
        "outputId": "329712d2-5c2c-4d43-c1fa-f2e41d9a2a88"
      },
      "source": [
        "regressor.summary()"
      ],
      "execution_count": 14,
      "outputs": [
        {
          "output_type": "stream",
          "text": [
            "Model: \"sequential_1\"\n",
            "_________________________________________________________________\n",
            "Layer (type)                 Output Shape              Param #   \n",
            "=================================================================\n",
            "lstm_1 (LSTM)                (None, 60, 50)            10400     \n",
            "_________________________________________________________________\n",
            "dropout_1 (Dropout)          (None, 60, 50)            0         \n",
            "_________________________________________________________________\n",
            "lstm_2 (LSTM)                (None, 60, 50)            20200     \n",
            "_________________________________________________________________\n",
            "dropout_2 (Dropout)          (None, 60, 50)            0         \n",
            "_________________________________________________________________\n",
            "lstm_3 (LSTM)                (None, 60, 50)            20200     \n",
            "_________________________________________________________________\n",
            "dropout_3 (Dropout)          (None, 60, 50)            0         \n",
            "_________________________________________________________________\n",
            "lstm_4 (LSTM)                (None, 50)                20200     \n",
            "_________________________________________________________________\n",
            "dropout_4 (Dropout)          (None, 50)                0         \n",
            "_________________________________________________________________\n",
            "dense_1 (Dense)              (None, 1)                 51        \n",
            "=================================================================\n",
            "Total params: 71,051\n",
            "Trainable params: 71,051\n",
            "Non-trainable params: 0\n",
            "_________________________________________________________________\n"
          ],
          "name": "stdout"
        }
      ]
    },
    {
      "cell_type": "markdown",
      "metadata": {
        "id": "JyL_ZayCmoep",
        "colab_type": "text"
      },
      "source": [
        "**Test dataset**"
      ]
    },
    {
      "cell_type": "code",
      "metadata": {
        "id": "phWXHcWTjXkx",
        "colab_type": "code",
        "colab": {}
      },
      "source": [
        "dataset_test = pd.read_excel('Test.xlsx')"
      ],
      "execution_count": 15,
      "outputs": []
    },
    {
      "cell_type": "code",
      "metadata": {
        "id": "EGv3ZtMkjkNo",
        "colab_type": "code",
        "colab": {
          "base_uri": "https://localhost:8080/",
          "height": 202
        },
        "outputId": "845c1508-7c07-463c-d894-850e46ad8b17"
      },
      "source": [
        "dataset_test.head()"
      ],
      "execution_count": 16,
      "outputs": [
        {
          "output_type": "execute_result",
          "data": {
            "text/html": [
              "<div>\n",
              "<style scoped>\n",
              "    .dataframe tbody tr th:only-of-type {\n",
              "        vertical-align: middle;\n",
              "    }\n",
              "\n",
              "    .dataframe tbody tr th {\n",
              "        vertical-align: top;\n",
              "    }\n",
              "\n",
              "    .dataframe thead th {\n",
              "        text-align: right;\n",
              "    }\n",
              "</style>\n",
              "<table border=\"1\" class=\"dataframe\">\n",
              "  <thead>\n",
              "    <tr style=\"text-align: right;\">\n",
              "      <th></th>\n",
              "      <th>date</th>\n",
              "      <th>symbol</th>\n",
              "      <th>open</th>\n",
              "      <th>close</th>\n",
              "      <th>low</th>\n",
              "      <th>high</th>\n",
              "      <th>volume</th>\n",
              "    </tr>\n",
              "  </thead>\n",
              "  <tbody>\n",
              "    <tr>\n",
              "      <th>0</th>\n",
              "      <td>2015-05-28</td>\n",
              "      <td>SYK</td>\n",
              "      <td>96.459999</td>\n",
              "      <td>96.239998</td>\n",
              "      <td>95.830002</td>\n",
              "      <td>96.940002</td>\n",
              "      <td>862600</td>\n",
              "    </tr>\n",
              "    <tr>\n",
              "      <th>1</th>\n",
              "      <td>2015-05-28</td>\n",
              "      <td>SYMC</td>\n",
              "      <td>24.670000</td>\n",
              "      <td>24.809999</td>\n",
              "      <td>24.610001</td>\n",
              "      <td>24.840000</td>\n",
              "      <td>1619700</td>\n",
              "    </tr>\n",
              "    <tr>\n",
              "      <th>2</th>\n",
              "      <td>2015-05-28</td>\n",
              "      <td>SYY</td>\n",
              "      <td>37.540001</td>\n",
              "      <td>37.250000</td>\n",
              "      <td>37.209999</td>\n",
              "      <td>37.570000</td>\n",
              "      <td>2315900</td>\n",
              "    </tr>\n",
              "    <tr>\n",
              "      <th>3</th>\n",
              "      <td>2015-05-28</td>\n",
              "      <td>T</td>\n",
              "      <td>34.959999</td>\n",
              "      <td>34.799999</td>\n",
              "      <td>34.639999</td>\n",
              "      <td>34.970001</td>\n",
              "      <td>19591700</td>\n",
              "    </tr>\n",
              "    <tr>\n",
              "      <th>4</th>\n",
              "      <td>2015-05-28</td>\n",
              "      <td>TAP</td>\n",
              "      <td>73.959999</td>\n",
              "      <td>74.540001</td>\n",
              "      <td>73.839996</td>\n",
              "      <td>74.769997</td>\n",
              "      <td>1755000</td>\n",
              "    </tr>\n",
              "  </tbody>\n",
              "</table>\n",
              "</div>"
            ],
            "text/plain": [
              "        date symbol       open      close        low       high    volume\n",
              "0 2015-05-28    SYK  96.459999  96.239998  95.830002  96.940002    862600\n",
              "1 2015-05-28   SYMC  24.670000  24.809999  24.610001  24.840000   1619700\n",
              "2 2015-05-28    SYY  37.540001  37.250000  37.209999  37.570000   2315900\n",
              "3 2015-05-28      T  34.959999  34.799999  34.639999  34.970001  19591700\n",
              "4 2015-05-28    TAP  73.959999  74.540001  73.839996  74.769997   1755000"
            ]
          },
          "metadata": {
            "tags": []
          },
          "execution_count": 16
        }
      ]
    },
    {
      "cell_type": "code",
      "metadata": {
        "id": "FIsSjFv8jsBf",
        "colab_type": "code",
        "colab": {}
      },
      "source": [
        "real_stock_price = dataset_test.iloc[:, 2:3].values"
      ],
      "execution_count": 17,
      "outputs": []
    },
    {
      "cell_type": "code",
      "metadata": {
        "id": "n5sMVjVPjvTJ",
        "colab_type": "code",
        "colab": {}
      },
      "source": [
        "dataset_total = pd.concat((dataset_train['open'], dataset_test['open']), axis = 0)"
      ],
      "execution_count": 18,
      "outputs": []
    },
    {
      "cell_type": "code",
      "metadata": {
        "id": "0EeorhH0j11-",
        "colab_type": "code",
        "colab": {}
      },
      "source": [
        "inputs = dataset_total[len(dataset_total) - len(dataset_test) - 60:].values"
      ],
      "execution_count": 19,
      "outputs": []
    },
    {
      "cell_type": "code",
      "metadata": {
        "id": "-Z6rEKENj48d",
        "colab_type": "code",
        "colab": {}
      },
      "source": [
        "inputs = inputs.reshape(-1,1)\n",
        "inputs = sc.transform(inputs)"
      ],
      "execution_count": 20,
      "outputs": []
    },
    {
      "cell_type": "code",
      "metadata": {
        "id": "TxDoknnxj9HF",
        "colab_type": "code",
        "colab": {}
      },
      "source": [
        "X_test = []\n",
        "for i in range(60, 201325):\n",
        "    X_test.append(inputs[i-60:i, 0])\n",
        "X_test = np.array(X_test)\n",
        "X_test = np.reshape(X_test, (X_test.shape[0], X_test.shape[1], 1))\n",
        "predicted_stock_price = regressor.predict(X_test)\n",
        "predicted_stock_price = sc.inverse_transform(predicted_stock_price)"
      ],
      "execution_count": 22,
      "outputs": []
    },
    {
      "cell_type": "code",
      "metadata": {
        "id": "tODi8yLCkh9X",
        "colab_type": "code",
        "colab": {
          "base_uri": "https://localhost:8080/",
          "height": 295
        },
        "outputId": "6d36bf19-3374-4134-8154-8ff8fab298e5"
      },
      "source": [
        "# Visualising the results\n",
        "plt.plot(real_stock_price, color = 'red', label = 'Real Stock Price')\n",
        "plt.plot(predicted_stock_price, color = 'blue', label = 'Predicted Stock Price')\n",
        "plt.title('Stock Price Prediction')\n",
        "plt.xlabel('Time')\n",
        "plt.ylabel('Stock Price')\n",
        "plt.legend()\n",
        "plt.show()"
      ],
      "execution_count": 23,
      "outputs": [
        {
          "output_type": "display_data",
          "data": {
            "image/png": "[encoded data removed]",
            "text/plain": [
              "<Figure size 432x288 with 1 Axes>"
            ]
          },
          "metadata": {
            "tags": [],
            "needs_background": "light"
          }
        }
      ]
    },
    {
      "cell_type": "code",
      "metadata": {
        "id": "yib72783lgCB",
        "colab_type": "code",
        "colab": {}
      },
      "source": [
        ""
      ],
      "execution_count": null,
      "outputs": []
    },
    {
      "cell_type": "markdown",
      "metadata": {
        "id": "_MmvfT2Nls5r",
        "colab_type": "text"
      },
      "source": [
        "From above graph we can interpreted that our model able to predict the trend of up and down in stock price but it slightly get disturb at sharp corners but definetlty it predict the trend."
      ]
    },
    {
      "cell_type": "code",
      "metadata": {
        "id": "Gjwcs4FYmLBZ",
        "colab_type": "code",
        "colab": {}
      },
      "source": [
        ""
      ],
      "execution_count": null,
      "outputs": []
    }
  ]
}